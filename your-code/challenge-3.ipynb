{
  "cells": [
    {
      "cell_type": "markdown",
      "metadata": {
        "id": "ZR7acNcgkjuA"
      },
      "source": [
        "# Challenge 3\n",
        "\n",
        "In this challenge we will work on the `Orders` data set. In your work you will apply the thinking process and workflow we showed you in Challenge 2.\n",
        "\n",
        "You are serving as a Business Intelligence Analyst at the headquarter of an international fashion goods chain store. Your boss today asked you to do two things for her:\n",
        "\n",
        "**First, identify two groups of customers from the data set.** The first group is **VIP Customers** whose **aggregated expenses** at your global chain stores are **above the 95th percentile** (aka. 0.95 quantile). The second group is **Preferred Customers** whose **aggregated expenses** are **between the 75th and 95th percentile**.\n",
        "\n",
        "**Second, identify which country has the most of your VIP customers, and which country has the most of your VIP+Preferred Customers combined.**"
      ]
    },
    {
      "cell_type": "markdown",
      "metadata": {
        "id": "l0Z_R27BkjuD"
      },
      "source": [
        "## Q1: How to identify VIP & Preferred Customers?\n",
        "\n",
        "We start by importing all the required libraries:"
      ]
    },
    {
      "cell_type": "code",
      "execution_count": 111,
      "metadata": {
        "id": "7ezhgq1EkjuD"
      },
      "outputs": [],
      "source": [
        "# import required libraries\n",
        "import numpy as np\n",
        "import pandas as pd"
      ]
    },
    {
      "cell_type": "markdown",
      "metadata": {
        "id": "jaabUVvtkjuE"
      },
      "source": [
        "Next, extract and import `Orders` dataset into a dataframe variable called `orders`. Print the head of `orders` to overview the data:"
      ]
    },
    {
      "cell_type": "code",
      "execution_count": 112,
      "metadata": {
        "colab": {
          "base_uri": "https://localhost:8080/",
          "height": 310
        },
        "id": "zHCNYQ0xkjuE",
        "outputId": "fcd4663d-d5db-4f2b-ee11-54412a941413"
      },
      "outputs": [
        {
          "output_type": "execute_result",
          "data": {
            "text/plain": [
              "   Unnamed: 0  InvoiceNo StockCode  year  month  day  hour  \\\n",
              "0           0     536365    85123A  2010     12    3     8   \n",
              "1           1     536365     71053  2010     12    3     8   \n",
              "2           2     536365    84406B  2010     12    3     8   \n",
              "3           3     536365    84029G  2010     12    3     8   \n",
              "4           4     536365    84029E  2010     12    3     8   \n",
              "\n",
              "                           Description  Quantity          InvoiceDate  \\\n",
              "0   white hanging heart t-light holder         6  2010-12-01 08:26:00   \n",
              "1                  white metal lantern         6  2010-12-01 08:26:00   \n",
              "2       cream cupid hearts coat hanger         8  2010-12-01 08:26:00   \n",
              "3  knitted union flag hot water bottle         6  2010-12-01 08:26:00   \n",
              "4       red woolly hottie white heart.         6  2010-12-01 08:26:00   \n",
              "\n",
              "   UnitPrice  CustomerID         Country  amount_spent  \n",
              "0       2.55       17850  United Kingdom         15.30  \n",
              "1       3.39       17850  United Kingdom         20.34  \n",
              "2       2.75       17850  United Kingdom         22.00  \n",
              "3       3.39       17850  United Kingdom         20.34  \n",
              "4       3.39       17850  United Kingdom         20.34  "
            ],
            "text/html": [
              "\n",
              "  <div id=\"df-d51c4291-5a5e-4a86-bcca-42b310c6b3df\" class=\"colab-df-container\">\n",
              "    <div>\n",
              "<style scoped>\n",
              "    .dataframe tbody tr th:only-of-type {\n",
              "        vertical-align: middle;\n",
              "    }\n",
              "\n",
              "    .dataframe tbody tr th {\n",
              "        vertical-align: top;\n",
              "    }\n",
              "\n",
              "    .dataframe thead th {\n",
              "        text-align: right;\n",
              "    }\n",
              "</style>\n",
              "<table border=\"1\" class=\"dataframe\">\n",
              "  <thead>\n",
              "    <tr style=\"text-align: right;\">\n",
              "      <th></th>\n",
              "      <th>Unnamed: 0</th>\n",
              "      <th>InvoiceNo</th>\n",
              "      <th>StockCode</th>\n",
              "      <th>year</th>\n",
              "      <th>month</th>\n",
              "      <th>day</th>\n",
              "      <th>hour</th>\n",
              "      <th>Description</th>\n",
              "      <th>Quantity</th>\n",
              "      <th>InvoiceDate</th>\n",
              "      <th>UnitPrice</th>\n",
              "      <th>CustomerID</th>\n",
              "      <th>Country</th>\n",
              "      <th>amount_spent</th>\n",
              "    </tr>\n",
              "  </thead>\n",
              "  <tbody>\n",
              "    <tr>\n",
              "      <th>0</th>\n",
              "      <td>0</td>\n",
              "      <td>536365</td>\n",
              "      <td>85123A</td>\n",
              "      <td>2010</td>\n",
              "      <td>12</td>\n",
              "      <td>3</td>\n",
              "      <td>8</td>\n",
              "      <td>white hanging heart t-light holder</td>\n",
              "      <td>6</td>\n",
              "      <td>2010-12-01 08:26:00</td>\n",
              "      <td>2.55</td>\n",
              "      <td>17850</td>\n",
              "      <td>United Kingdom</td>\n",
              "      <td>15.30</td>\n",
              "    </tr>\n",
              "    <tr>\n",
              "      <th>1</th>\n",
              "      <td>1</td>\n",
              "      <td>536365</td>\n",
              "      <td>71053</td>\n",
              "      <td>2010</td>\n",
              "      <td>12</td>\n",
              "      <td>3</td>\n",
              "      <td>8</td>\n",
              "      <td>white metal lantern</td>\n",
              "      <td>6</td>\n",
              "      <td>2010-12-01 08:26:00</td>\n",
              "      <td>3.39</td>\n",
              "      <td>17850</td>\n",
              "      <td>United Kingdom</td>\n",
              "      <td>20.34</td>\n",
              "    </tr>\n",
              "    <tr>\n",
              "      <th>2</th>\n",
              "      <td>2</td>\n",
              "      <td>536365</td>\n",
              "      <td>84406B</td>\n",
              "      <td>2010</td>\n",
              "      <td>12</td>\n",
              "      <td>3</td>\n",
              "      <td>8</td>\n",
              "      <td>cream cupid hearts coat hanger</td>\n",
              "      <td>8</td>\n",
              "      <td>2010-12-01 08:26:00</td>\n",
              "      <td>2.75</td>\n",
              "      <td>17850</td>\n",
              "      <td>United Kingdom</td>\n",
              "      <td>22.00</td>\n",
              "    </tr>\n",
              "    <tr>\n",
              "      <th>3</th>\n",
              "      <td>3</td>\n",
              "      <td>536365</td>\n",
              "      <td>84029G</td>\n",
              "      <td>2010</td>\n",
              "      <td>12</td>\n",
              "      <td>3</td>\n",
              "      <td>8</td>\n",
              "      <td>knitted union flag hot water bottle</td>\n",
              "      <td>6</td>\n",
              "      <td>2010-12-01 08:26:00</td>\n",
              "      <td>3.39</td>\n",
              "      <td>17850</td>\n",
              "      <td>United Kingdom</td>\n",
              "      <td>20.34</td>\n",
              "    </tr>\n",
              "    <tr>\n",
              "      <th>4</th>\n",
              "      <td>4</td>\n",
              "      <td>536365</td>\n",
              "      <td>84029E</td>\n",
              "      <td>2010</td>\n",
              "      <td>12</td>\n",
              "      <td>3</td>\n",
              "      <td>8</td>\n",
              "      <td>red woolly hottie white heart.</td>\n",
              "      <td>6</td>\n",
              "      <td>2010-12-01 08:26:00</td>\n",
              "      <td>3.39</td>\n",
              "      <td>17850</td>\n",
              "      <td>United Kingdom</td>\n",
              "      <td>20.34</td>\n",
              "    </tr>\n",
              "  </tbody>\n",
              "</table>\n",
              "</div>\n",
              "    <div class=\"colab-df-buttons\">\n",
              "\n",
              "  <div class=\"colab-df-container\">\n",
              "    <button class=\"colab-df-convert\" onclick=\"convertToInteractive('df-d51c4291-5a5e-4a86-bcca-42b310c6b3df')\"\n",
              "            title=\"Convert this dataframe to an interactive table.\"\n",
              "            style=\"display:none;\">\n",
              "\n",
              "  <svg xmlns=\"http://www.w3.org/2000/svg\" height=\"24px\" viewBox=\"0 -960 960 960\">\n",
              "    <path d=\"M120-120v-720h720v720H120Zm60-500h600v-160H180v160Zm220 220h160v-160H400v160Zm0 220h160v-160H400v160ZM180-400h160v-160H180v160Zm440 0h160v-160H620v160ZM180-180h160v-160H180v160Zm440 0h160v-160H620v160Z\"/>\n",
              "  </svg>\n",
              "    </button>\n",
              "\n",
              "  <style>\n",
              "    .colab-df-container {\n",
              "      display:flex;\n",
              "      gap: 12px;\n",
              "    }\n",
              "\n",
              "    .colab-df-convert {\n",
              "      background-color: #E8F0FE;\n",
              "      border: none;\n",
              "      border-radius: 50%;\n",
              "      cursor: pointer;\n",
              "      display: none;\n",
              "      fill: #1967D2;\n",
              "      height: 32px;\n",
              "      padding: 0 0 0 0;\n",
              "      width: 32px;\n",
              "    }\n",
              "\n",
              "    .colab-df-convert:hover {\n",
              "      background-color: #E2EBFA;\n",
              "      box-shadow: 0px 1px 2px rgba(60, 64, 67, 0.3), 0px 1px 3px 1px rgba(60, 64, 67, 0.15);\n",
              "      fill: #174EA6;\n",
              "    }\n",
              "\n",
              "    .colab-df-buttons div {\n",
              "      margin-bottom: 4px;\n",
              "    }\n",
              "\n",
              "    [theme=dark] .colab-df-convert {\n",
              "      background-color: #3B4455;\n",
              "      fill: #D2E3FC;\n",
              "    }\n",
              "\n",
              "    [theme=dark] .colab-df-convert:hover {\n",
              "      background-color: #434B5C;\n",
              "      box-shadow: 0px 1px 3px 1px rgba(0, 0, 0, 0.15);\n",
              "      filter: drop-shadow(0px 1px 2px rgba(0, 0, 0, 0.3));\n",
              "      fill: #FFFFFF;\n",
              "    }\n",
              "  </style>\n",
              "\n",
              "    <script>\n",
              "      const buttonEl =\n",
              "        document.querySelector('#df-d51c4291-5a5e-4a86-bcca-42b310c6b3df button.colab-df-convert');\n",
              "      buttonEl.style.display =\n",
              "        google.colab.kernel.accessAllowed ? 'block' : 'none';\n",
              "\n",
              "      async function convertToInteractive(key) {\n",
              "        const element = document.querySelector('#df-d51c4291-5a5e-4a86-bcca-42b310c6b3df');\n",
              "        const dataTable =\n",
              "          await google.colab.kernel.invokeFunction('convertToInteractive',\n",
              "                                                    [key], {});\n",
              "        if (!dataTable) return;\n",
              "\n",
              "        const docLinkHtml = 'Like what you see? Visit the ' +\n",
              "          '<a target=\"_blank\" href=https://colab.research.google.com/notebooks/data_table.ipynb>data table notebook</a>'\n",
              "          + ' to learn more about interactive tables.';\n",
              "        element.innerHTML = '';\n",
              "        dataTable['output_type'] = 'display_data';\n",
              "        await google.colab.output.renderOutput(dataTable, element);\n",
              "        const docLink = document.createElement('div');\n",
              "        docLink.innerHTML = docLinkHtml;\n",
              "        element.appendChild(docLink);\n",
              "      }\n",
              "    </script>\n",
              "  </div>\n",
              "\n",
              "\n",
              "<div id=\"df-453ef22d-e59a-42f9-9d3f-63ab0ba59e05\">\n",
              "  <button class=\"colab-df-quickchart\" onclick=\"quickchart('df-453ef22d-e59a-42f9-9d3f-63ab0ba59e05')\"\n",
              "            title=\"Suggest charts\"\n",
              "            style=\"display:none;\">\n",
              "\n",
              "<svg xmlns=\"http://www.w3.org/2000/svg\" height=\"24px\"viewBox=\"0 0 24 24\"\n",
              "     width=\"24px\">\n",
              "    <g>\n",
              "        <path d=\"M19 3H5c-1.1 0-2 .9-2 2v14c0 1.1.9 2 2 2h14c1.1 0 2-.9 2-2V5c0-1.1-.9-2-2-2zM9 17H7v-7h2v7zm4 0h-2V7h2v10zm4 0h-2v-4h2v4z\"/>\n",
              "    </g>\n",
              "</svg>\n",
              "  </button>\n",
              "\n",
              "<style>\n",
              "  .colab-df-quickchart {\n",
              "      --bg-color: #E8F0FE;\n",
              "      --fill-color: #1967D2;\n",
              "      --hover-bg-color: #E2EBFA;\n",
              "      --hover-fill-color: #174EA6;\n",
              "      --disabled-fill-color: #AAA;\n",
              "      --disabled-bg-color: #DDD;\n",
              "  }\n",
              "\n",
              "  [theme=dark] .colab-df-quickchart {\n",
              "      --bg-color: #3B4455;\n",
              "      --fill-color: #D2E3FC;\n",
              "      --hover-bg-color: #434B5C;\n",
              "      --hover-fill-color: #FFFFFF;\n",
              "      --disabled-bg-color: #3B4455;\n",
              "      --disabled-fill-color: #666;\n",
              "  }\n",
              "\n",
              "  .colab-df-quickchart {\n",
              "    background-color: var(--bg-color);\n",
              "    border: none;\n",
              "    border-radius: 50%;\n",
              "    cursor: pointer;\n",
              "    display: none;\n",
              "    fill: var(--fill-color);\n",
              "    height: 32px;\n",
              "    padding: 0;\n",
              "    width: 32px;\n",
              "  }\n",
              "\n",
              "  .colab-df-quickchart:hover {\n",
              "    background-color: var(--hover-bg-color);\n",
              "    box-shadow: 0 1px 2px rgba(60, 64, 67, 0.3), 0 1px 3px 1px rgba(60, 64, 67, 0.15);\n",
              "    fill: var(--button-hover-fill-color);\n",
              "  }\n",
              "\n",
              "  .colab-df-quickchart-complete:disabled,\n",
              "  .colab-df-quickchart-complete:disabled:hover {\n",
              "    background-color: var(--disabled-bg-color);\n",
              "    fill: var(--disabled-fill-color);\n",
              "    box-shadow: none;\n",
              "  }\n",
              "\n",
              "  .colab-df-spinner {\n",
              "    border: 2px solid var(--fill-color);\n",
              "    border-color: transparent;\n",
              "    border-bottom-color: var(--fill-color);\n",
              "    animation:\n",
              "      spin 1s steps(1) infinite;\n",
              "  }\n",
              "\n",
              "  @keyframes spin {\n",
              "    0% {\n",
              "      border-color: transparent;\n",
              "      border-bottom-color: var(--fill-color);\n",
              "      border-left-color: var(--fill-color);\n",
              "    }\n",
              "    20% {\n",
              "      border-color: transparent;\n",
              "      border-left-color: var(--fill-color);\n",
              "      border-top-color: var(--fill-color);\n",
              "    }\n",
              "    30% {\n",
              "      border-color: transparent;\n",
              "      border-left-color: var(--fill-color);\n",
              "      border-top-color: var(--fill-color);\n",
              "      border-right-color: var(--fill-color);\n",
              "    }\n",
              "    40% {\n",
              "      border-color: transparent;\n",
              "      border-right-color: var(--fill-color);\n",
              "      border-top-color: var(--fill-color);\n",
              "    }\n",
              "    60% {\n",
              "      border-color: transparent;\n",
              "      border-right-color: var(--fill-color);\n",
              "    }\n",
              "    80% {\n",
              "      border-color: transparent;\n",
              "      border-right-color: var(--fill-color);\n",
              "      border-bottom-color: var(--fill-color);\n",
              "    }\n",
              "    90% {\n",
              "      border-color: transparent;\n",
              "      border-bottom-color: var(--fill-color);\n",
              "    }\n",
              "  }\n",
              "</style>\n",
              "\n",
              "  <script>\n",
              "    async function quickchart(key) {\n",
              "      const quickchartButtonEl =\n",
              "        document.querySelector('#' + key + ' button');\n",
              "      quickchartButtonEl.disabled = true;  // To prevent multiple clicks.\n",
              "      quickchartButtonEl.classList.add('colab-df-spinner');\n",
              "      try {\n",
              "        const charts = await google.colab.kernel.invokeFunction(\n",
              "            'suggestCharts', [key], {});\n",
              "      } catch (error) {\n",
              "        console.error('Error during call to suggestCharts:', error);\n",
              "      }\n",
              "      quickchartButtonEl.classList.remove('colab-df-spinner');\n",
              "      quickchartButtonEl.classList.add('colab-df-quickchart-complete');\n",
              "    }\n",
              "    (() => {\n",
              "      let quickchartButtonEl =\n",
              "        document.querySelector('#df-453ef22d-e59a-42f9-9d3f-63ab0ba59e05 button');\n",
              "      quickchartButtonEl.style.display =\n",
              "        google.colab.kernel.accessAllowed ? 'block' : 'none';\n",
              "    })();\n",
              "  </script>\n",
              "</div>\n",
              "\n",
              "    </div>\n",
              "  </div>\n"
            ],
            "application/vnd.google.colaboratory.intrinsic+json": {
              "type": "dataframe",
              "variable_name": "orders"
            }
          },
          "metadata": {},
          "execution_count": 112
        }
      ],
      "source": [
        "# your code here\n",
        "orders = pd.read_csv('Orders.zip')\n",
        "orders.head()"
      ]
    },
    {
      "cell_type": "markdown",
      "metadata": {
        "id": "T-o3NHBHkjuE"
      },
      "source": [
        "---\n",
        "\n",
        "\"Identify VIP and Preferred Customers\" is the non-technical goal of your boss. You need to translate that goal into technical languages that data analysts use:\n",
        "\n",
        "## How to label customers whose aggregated `amount_spent` is in a given quantile range?\n"
      ]
    },
    {
      "cell_type": "markdown",
      "metadata": {
        "id": "aEPrlDj4kjuF"
      },
      "source": [
        "We break down the main problem into several sub problems:\n",
        "\n",
        "#### Sub Problem 1: How to aggregate the  `amount_spent` for unique customers?\n",
        "\n",
        "#### Sub Problem 2: How to select customers whose aggregated `amount_spent` is in a given quantile range?\n",
        "\n",
        "#### Sub Problem 3: How to label selected customers as \"VIP\" or \"Preferred\"?\n",
        "\n",
        "*Note: If you want to break down the main problem in a different way, please feel free to revise the sub problems above.*\n",
        "\n",
        "Now in the workspace below, tackle each of the sub problems using the iterative problem solving workflow. Insert cells as necessary to write your codes and explain your steps."
      ]
    },
    {
      "cell_type": "code",
      "execution_count": 113,
      "metadata": {
        "id": "bYu23AZdkjuF"
      },
      "outputs": [],
      "source": [
        "# your code here\n",
        "# Sub Problem 1: How to aggregate the amount_spent for unique customers?\n",
        "customer_total = orders.groupby('CustomerID').agg({'amount_spent':'sum'})\n",
        "\n",
        "# Sub Problem 2: How to select customers whose aggregated amount_spent is in a given quantile range?\n",
        "vip_threshold = customer_total['amount_spent'].quantile(0.95)\n",
        "preferred_threshold = customer_total['amount_spent'].quantile(0.75)\n",
        "\n",
        "vip_customers = customer_total[customer_total['amount_spent'] > vip_threshold]\n",
        "preferred_customers = customer_total[(customer_total['amount_spent'] > preferred_threshold) & (customer_total['amount_spent'] <= vip_threshold)]\n",
        "\n",
        "# Sub Problem 3: How to label selected customers as \"VIP\" or \"Preferred\"?\n",
        "customer_total['customer_label'] = 'Normal'\n",
        "customer_total.loc[customer_total.index.isin(vip_customers.index), 'customer_label'] = 'VIP'\n",
        "customer_total.loc[customer_total.index.isin(preferred_customers.index), 'customer_label'] = 'Preferred'"
      ]
    },
    {
      "cell_type": "code",
      "source": [],
      "metadata": {
        "id": "Knvj7C3C3Fq5"
      },
      "execution_count": 113,
      "outputs": []
    },
    {
      "cell_type": "markdown",
      "metadata": {
        "id": "Upvo1qK6kjuF"
      },
      "source": [
        "Now we'll leave it to you to solve Q2 & Q3, which you can leverage from your solution for Q1:\n",
        "\n",
        "## Q2: How to identify which country has the most VIP Customers?"
      ]
    },
    {
      "source": [
        "# Filter the DataFrame to include only VIP customers\n",
        "vip_customers_df = orders[orders['CustomerID'].isin(vip_customers.index)]\n",
        "\n",
        "# Count unique VIP customers by country\n",
        "vip_customers_by_country = vip_customers_df.groupby('Country')['CustomerID'].nunique()\n",
        "\n",
        "# Print VIP customer counts by country\n",
        "print(\"VIP customers by country:\")\n",
        "print(vip_customers_by_country)\n",
        "\n",
        "# A country with the mist VIPs:\n",
        "print(f'A country with the most VIP customers is: {vip_customers_by_country.idxmax()} with {vip_customers_by_country.max()} customers')\n"
      ],
      "cell_type": "code",
      "metadata": {
        "colab": {
          "base_uri": "https://localhost:8080/"
        },
        "collapsed": true,
        "id": "cbqhACL-nP8V",
        "outputId": "71f5e65d-7e20-42ad-aed8-316f97c88e98"
      },
      "execution_count": 119,
      "outputs": [
        {
          "output_type": "stream",
          "name": "stdout",
          "text": [
            "VIP customers by country:\n",
            "Country\n",
            "Australia            2\n",
            "Belgium              1\n",
            "Channel Islands      1\n",
            "Cyprus               1\n",
            "Denmark              1\n",
            "EIRE                 2\n",
            "Finland              1\n",
            "France               9\n",
            "Germany             10\n",
            "Japan                2\n",
            "Netherlands          1\n",
            "Norway               1\n",
            "Portugal             2\n",
            "Singapore            1\n",
            "Spain                2\n",
            "Sweden               1\n",
            "Switzerland          3\n",
            "United Kingdom     177\n",
            "Name: CustomerID, dtype: int64\n",
            "A country with the most VIP customers is: United Kingdom with 177 customers\n"
          ]
        }
      ]
    },
    {
      "cell_type": "markdown",
      "metadata": {
        "id": "9e9Jc_mnkjuG"
      },
      "source": [
        "## Q3: How to identify which country has the most VIP+Preferred Customers\n",
        "\n",
        "*   List item\n",
        "*   List item\n",
        "\n",
        "combined?"
      ]
    },
    {
      "cell_type": "code",
      "execution_count": 120,
      "metadata": {
        "colab": {
          "base_uri": "https://localhost:8080/"
        },
        "id": "S1g_S834kjuG",
        "outputId": "8e267f9b-3f79-4ab9-fcd6-333a41ed00d2"
      },
      "outputs": [
        {
          "output_type": "stream",
          "name": "stdout",
          "text": [
            "Preferred customers by country:\n",
            "Country\n",
            "Australia            2\n",
            "Austria              3\n",
            "Belgium             11\n",
            "Canada               1\n",
            "Channel Islands      3\n",
            "Cyprus               3\n",
            "Denmark              2\n",
            "EIRE                 1\n",
            "Finland              4\n",
            "France              20\n",
            "Germany             29\n",
            "Greece               1\n",
            "Iceland              1\n",
            "Israel               2\n",
            "Italy                5\n",
            "Japan                2\n",
            "Lebanon              1\n",
            "Malta                1\n",
            "Norway               6\n",
            "Poland               1\n",
            "Portugal             5\n",
            "Spain                7\n",
            "Sweden               1\n",
            "Switzerland          6\n",
            "United Kingdom     755\n",
            "Name: CustomerID, dtype: int64\n",
            "A country with the most preferred customers is: United Kingdom with 755 customers\n"
          ]
        }
      ],
      "source": [
        "# Filter the DataFrame to include only Preferred customers\n",
        "preferred_customers_df = orders[orders['CustomerID'].isin(preferred_customers.index)]\n",
        "\n",
        "# Count unique Preferred customers by country\n",
        "preferred_customers_by_country = preferred_customers_df.groupby('Country')['CustomerID'].nunique()\n",
        "\n",
        "# Print Preferred customer counts by country\n",
        "print(\"Preferred customers by country:\")\n",
        "print(preferred_customers_by_country)\n",
        "\n",
        "# Identify and print the country with the most Preferred customers\n",
        "print(f'A country with the most preferred customers is: {preferred_customers_by_country.idxmax()} with {preferred_customers_by_country.max()} customers')\n"
      ]
    },
    {
      "cell_type": "code",
      "source": [
        "#seeing that both VIP and preferred customers are mostly located in United Kingdom we can jsut sun up the values\n",
        "most_vip_and_preferred_customers = vip_customers_by_country.max() + preferred_customers_by_country.max()\n",
        "print(f'The total number of most VIP and preferred customers is: {most_vip_and_preferred_customers}')"
      ],
      "metadata": {
        "colab": {
          "base_uri": "https://localhost:8080/"
        },
        "id": "_QzHe2IMwWCG",
        "outputId": "bf78965a-9796-4799-9cba-1063d1eb6148"
      },
      "execution_count": 121,
      "outputs": [
        {
          "output_type": "stream",
          "name": "stdout",
          "text": [
            "The total number of most VIP and preferred customers is: 932\n"
          ]
        }
      ]
    },
    {
      "cell_type": "code",
      "source": [
        "# Extract counts for the United Kingdom\n",
        "uk_vip_count = vip_customers_by_country.get('United Kingdom', 0)\n",
        "uk_preferred_count = preferred_customers_by_country.get('United Kingdom', 0)\n",
        "\n",
        "# Calculate the total for the United Kingdom\n",
        "total_uk_customers = uk_vip_count + uk_preferred_count\n",
        "\n",
        "print(f'The total number of VIP and Preferred customers in the United Kingdom is: {total_uk_customers}')\n"
      ],
      "metadata": {
        "colab": {
          "base_uri": "https://localhost:8080/"
        },
        "id": "MnM3Tvf0PIvh",
        "outputId": "c1895a3d-d2b3-4833-ba14-f133ed2845f5"
      },
      "execution_count": 122,
      "outputs": [
        {
          "output_type": "stream",
          "name": "stdout",
          "text": [
            "The total number of VIP and Preferred customers in the United Kingdom is: 932\n"
          ]
        }
      ]
    }
  ],
  "metadata": {
    "kernelspec": {
      "display_name": "Python 3",
      "language": "python",
      "name": "python3"
    },
    "language_info": {
      "codemirror_mode": {
        "name": "ipython",
        "version": 3
      },
      "file_extension": ".py",
      "mimetype": "text/x-python",
      "name": "python",
      "nbconvert_exporter": "python",
      "pygments_lexer": "ipython3",
      "version": "3.6.9"
    },
    "colab": {
      "provenance": []
    }
  },
  "nbformat": 4,
  "nbformat_minor": 0
}